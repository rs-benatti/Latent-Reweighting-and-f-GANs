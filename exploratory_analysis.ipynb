{
 "cells": [
  {
   "cell_type": "code",
   "execution_count": 1,
   "metadata": {},
   "outputs": [
    {
     "name": "stdout",
     "output_type": "stream",
     "text": [
      "GPU is not available\n"
     ]
    }
   ],
   "source": [
    "import train\n",
    "\n",
    "import torch \n",
    "import torchvision\n",
    "import os\n",
    "import argparse\n",
    "import matplotlib.pyplot as plt\n",
    "\n",
    "\n",
    "from model import Generator\n",
    "from utils import load_model"
   ]
  },
  {
   "cell_type": "code",
   "execution_count": 2,
   "metadata": {},
   "outputs": [],
   "source": [
    "%load_ext autoreload\n",
    "%autoreload 2"
   ]
  },
  {
   "cell_type": "code",
   "execution_count": 3,
   "metadata": {},
   "outputs": [],
   "source": [
    "def generate(G, batch_size=2048, n_samples=101):\n",
    "    # Check if GPU is available\n",
    "    if torch.cuda.is_available():\n",
    "        device = torch.device(\"cuda\")\n",
    "        print('GPU is available')\n",
    "    else:\n",
    "        device = torch.device(\"cpu\")\n",
    "        print('GPU is not available')\n",
    "\n",
    "\n",
    "    print('Model Loading...')\n",
    "    # Model Pipeline\n",
    "    mnist_dim = 784\n",
    "\n",
    "    model = Generator(g_output_dim = mnist_dim).to(device)\n",
    "    model = load_model(model, 'checkpoints')\n",
    "    model = torch.nn.DataParallel(model).to(device)\n",
    "    model.eval()\n",
    "\n",
    "    print('Model loaded.')\n",
    "\n",
    "\n",
    "\n",
    "    print('Start Generating')\n",
    "    os.makedirs('samples', exist_ok=True)\n",
    "\n",
    "    i = 0\n",
    "    with torch.no_grad():\n",
    "        while i<n_samples:\n",
    "            z = torch.randn(batch_size, 100).to(device)\n",
    "            x = model(z)\n",
    "            x = x.reshape(batch_size, 28, 28)\n",
    "            for k in range(x.shape[0]):\n",
    "                if i<n_samples:\n",
    "                    torchvision.utils.save_image(x[k:k+1], os.path.join('samples', f'{i}.png'))         \n",
    "                    \n",
    "                if i < 9:\n",
    "                    # Plot the first 9 generated images\n",
    "                    img = x[k].cpu().numpy()\n",
    "                    plt.subplot(3, 3, i+1)\n",
    "                    plt.imshow(img, cmap='gray')\n",
    "                    plt.axis('off')\n",
    "                i += 1"
   ]
  },
  {
   "cell_type": "code",
   "execution_count": 4,
   "metadata": {},
   "outputs": [
    {
     "name": "stdout",
     "output_type": "stream",
     "text": [
      "Used divergence: GAN\n",
      "GPU is not available\n",
      "Dataset loading...\n",
      "Dataset Loaded.\n",
      "Model Loading...\n",
      "Model loaded.\n",
      "Start Training :\n"
     ]
    },
    {
     "name": "stderr",
     "output_type": "stream",
     "text": [
      "100%|██████████| 400/400 [22:49<00:00,  3.42s/it]"
     ]
    },
    {
     "name": "stdout",
     "output_type": "stream",
     "text": [
      "Training done\n"
     ]
    },
    {
     "name": "stderr",
     "output_type": "stream",
     "text": [
      "\n"
     ]
    },
    {
     "data": {
      "text/plain": [
       "<matplotlib.legend.Legend at 0x21c22531610>"
      ]
     },
     "execution_count": 4,
     "metadata": {},
     "output_type": "execute_result"
    },
    {
     "data": {
      "image/png": "[encoded data removed]",
      "text/plain": [
       "<Figure size 640x480 with 1 Axes>"
      ]
     },
     "metadata": {},
     "output_type": "display_data"
    }
   ],
   "source": [
    "# ToDo: Substitute printing by plotting\n",
    "G, D, G_loss_history, D_loss_history = train.main(epochs = 400, lr = 0.0002, batch_size = 64, mnist_size = 1000, f_divergence = 1)\n",
    "plt.plot(D_loss_history, label = \"D_loss\")\n",
    "plt.plot(G_loss_history, label = \"G_loss\")\n",
    "plt.legend()"
   ]
  },
  {
   "cell_type": "code",
   "execution_count": 7,
   "metadata": {},
   "outputs": [
    {
     "name": "stdout",
     "output_type": "stream",
     "text": [
      "GPU is not available\n",
      "Model Loading...\n"
     ]
    },
    {
     "ename": "TypeError",
     "evalue": "super(type, obj): obj must be an instance or subtype of type",
     "output_type": "error",
     "traceback": [
      "\u001b[1;31m---------------------------------------------------------------------------\u001b[0m",
      "\u001b[1;31mTypeError\u001b[0m                                 Traceback (most recent call last)",
      "\u001b[1;32mc:\\Users\\User\\Documents\\Estudos\\M2 Dauphine\\Data Science Lab\\GAN\\assignment2-2023-ngannou\\exploratory_analysis.ipynb Cell 5\u001b[0m line \u001b[0;36m1\n\u001b[1;32m----> <a href='vscode-notebook-cell:/c%3A/Users/User/Documents/Estudos/M2%20Dauphine/Data%20Science%20Lab/GAN/assignment2-2023-ngannou/exploratory_analysis.ipynb#W4sZmlsZQ%3D%3D?line=0'>1</a>\u001b[0m generate(G, \u001b[39m2048\u001b[39;49m, \u001b[39m101\u001b[39;49m)\n",
      "\u001b[1;32mc:\\Users\\User\\Documents\\Estudos\\M2 Dauphine\\Data Science Lab\\GAN\\assignment2-2023-ngannou\\exploratory_analysis.ipynb Cell 5\u001b[0m line \u001b[0;36m1\n\u001b[0;32m     <a href='vscode-notebook-cell:/c%3A/Users/User/Documents/Estudos/M2%20Dauphine/Data%20Science%20Lab/GAN/assignment2-2023-ngannou/exploratory_analysis.ipynb#W4sZmlsZQ%3D%3D?line=11'>12</a>\u001b[0m \u001b[39m# Model Pipeline\u001b[39;00m\n\u001b[0;32m     <a href='vscode-notebook-cell:/c%3A/Users/User/Documents/Estudos/M2%20Dauphine/Data%20Science%20Lab/GAN/assignment2-2023-ngannou/exploratory_analysis.ipynb#W4sZmlsZQ%3D%3D?line=12'>13</a>\u001b[0m mnist_dim \u001b[39m=\u001b[39m \u001b[39m784\u001b[39m\n\u001b[1;32m---> <a href='vscode-notebook-cell:/c%3A/Users/User/Documents/Estudos/M2%20Dauphine/Data%20Science%20Lab/GAN/assignment2-2023-ngannou/exploratory_analysis.ipynb#W4sZmlsZQ%3D%3D?line=14'>15</a>\u001b[0m model \u001b[39m=\u001b[39m Generator(g_output_dim \u001b[39m=\u001b[39;49m mnist_dim)\u001b[39m.\u001b[39mto(device)\n\u001b[0;32m     <a href='vscode-notebook-cell:/c%3A/Users/User/Documents/Estudos/M2%20Dauphine/Data%20Science%20Lab/GAN/assignment2-2023-ngannou/exploratory_analysis.ipynb#W4sZmlsZQ%3D%3D?line=15'>16</a>\u001b[0m model \u001b[39m=\u001b[39m load_model(model, \u001b[39m'\u001b[39m\u001b[39mcheckpoints\u001b[39m\u001b[39m'\u001b[39m)\n\u001b[0;32m     <a href='vscode-notebook-cell:/c%3A/Users/User/Documents/Estudos/M2%20Dauphine/Data%20Science%20Lab/GAN/assignment2-2023-ngannou/exploratory_analysis.ipynb#W4sZmlsZQ%3D%3D?line=16'>17</a>\u001b[0m model \u001b[39m=\u001b[39m torch\u001b[39m.\u001b[39mnn\u001b[39m.\u001b[39mDataParallel(model)\u001b[39m.\u001b[39mto(device)\n",
      "File \u001b[1;32mc:\\Users\\User\\Documents\\Estudos\\M2 Dauphine\\Data Science Lab\\GAN\\assignment2-2023-ngannou\\model.py:8\u001b[0m, in \u001b[0;36mGenerator.__init__\u001b[1;34m(self, g_output_dim)\u001b[0m\n\u001b[0;32m      7\u001b[0m \u001b[39mdef\u001b[39;00m \u001b[39m__init__\u001b[39m(\u001b[39mself\u001b[39m, g_output_dim):\n\u001b[1;32m----> 8\u001b[0m     \u001b[39msuper\u001b[39;49m(Generator, \u001b[39mself\u001b[39;49m)\u001b[39m.\u001b[39m\u001b[39m__init__\u001b[39m()       \n\u001b[0;32m      9\u001b[0m     \u001b[39mself\u001b[39m\u001b[39m.\u001b[39mfc1 \u001b[39m=\u001b[39m nn\u001b[39m.\u001b[39mLinear(\u001b[39m100\u001b[39m, \u001b[39m256\u001b[39m)\n\u001b[0;32m     10\u001b[0m     \u001b[39mself\u001b[39m\u001b[39m.\u001b[39mfc2 \u001b[39m=\u001b[39m nn\u001b[39m.\u001b[39mLinear(\u001b[39mself\u001b[39m\u001b[39m.\u001b[39mfc1\u001b[39m.\u001b[39mout_features, \u001b[39mself\u001b[39m\u001b[39m.\u001b[39mfc1\u001b[39m.\u001b[39mout_features\u001b[39m*\u001b[39m\u001b[39m2\u001b[39m)\n",
      "\u001b[1;31mTypeError\u001b[0m: super(type, obj): obj must be an instance or subtype of type"
     ]
    }
   ],
   "source": [
    "generate(G, 2048, 101)"
   ]
  },
  {
   "cell_type": "code",
   "execution_count": null,
   "metadata": {},
   "outputs": [],
   "source": []
  }
 ],
 "metadata": {
  "kernelspec": {
   "display_name": "Python 3",
   "language": "python",
   "name": "python3"
  },
  "language_info": {
   "codemirror_mode": {
    "name": "ipython",
    "version": 3
   },
   "file_extension": ".py",
   "mimetype": "text/x-python",
   "name": "python",
   "nbconvert_exporter": "python",
   "pygments_lexer": "ipython3",
   "version": "3.9.10"
  }
 },
 "nbformat": 4,
 "nbformat_minor": 2
}
