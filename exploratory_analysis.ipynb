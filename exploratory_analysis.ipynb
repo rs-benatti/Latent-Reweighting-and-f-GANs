{
 "cells": [
  {
   "cell_type": "code",
   "execution_count": 11,
   "metadata": {},
   "outputs": [],
   "source": [
    "import train\n",
    "\n",
    "import torch \n",
    "import torchvision\n",
    "import os\n",
    "import argparse\n",
    "\n",
    "\n",
    "from model import Generator\n",
    "from utils import load_model"
   ]
  },
  {
   "cell_type": "code",
   "execution_count": 6,
   "metadata": {},
   "outputs": [
    {
     "name": "stdout",
     "output_type": "stream",
     "text": [
      "The autoreload extension is already loaded. To reload it, use:\n",
      "  %reload_ext autoreload\n"
     ]
    }
   ],
   "source": [
    "%load_ext autoreload\n",
    "%autoreload 2"
   ]
  },
  {
   "cell_type": "code",
   "execution_count": 10,
   "metadata": {},
   "outputs": [
    {
     "name": "stdout",
     "output_type": "stream",
     "text": [
      "Used divergence: BCE Loss\n",
      "GPU is not available\n",
      "Dataset loading...\n",
      "Dataset Loaded.\n",
      "Model Loading...\n",
      "Model loaded.\n",
      "Start Training :\n"
     ]
    },
    {
     "name": "stderr",
     "output_type": "stream",
     "text": [
      "  0%|          | 0/100 [00:00<?, ?it/s]"
     ]
    },
    {
     "name": "stdout",
     "output_type": "stream",
     "text": [
      "D_loss = 1.3794642686843872\n"
     ]
    },
    {
     "name": "stderr",
     "output_type": "stream",
     "text": [
      "  1%|          | 1/100 [00:00<00:19,  5.08it/s]"
     ]
    },
    {
     "name": "stdout",
     "output_type": "stream",
     "text": [
      "G_loss = 0.6709589958190918\n",
      "D_loss = 1.2423410415649414\n",
      "G_loss = 0.6660237908363342\n",
      "D_loss = 1.1233131885528564\n",
      "G_loss = 0.6590317487716675"
     ]
    },
    {
     "name": "stderr",
     "output_type": "stream",
     "text": [
      "  2%|▏         | 2/100 [00:00<00:18,  5.40it/s]"
     ]
    },
    {
     "name": "stdout",
     "output_type": "stream",
     "text": [
      "\n",
      "D_loss = 1.0099104642868042\n",
      "G_loss = 0.6450181007385254\n",
      "D_loss = 0.9261457324028015\n",
      "G_loss = 0.621663510799408\n"
     ]
    },
    {
     "name": "stderr",
     "output_type": "stream",
     "text": [
      "  3%|▎         | 3/100 [00:00<00:17,  5.65it/s]"
     ]
    },
    {
     "name": "stdout",
     "output_type": "stream",
     "text": [
      "D_loss = 0.9091227054595947\n",
      "G_loss = 0.5862691402435303\n",
      "D_loss = 0.9308713674545288\n",
      "G_loss = 0.5541231632232666\n",
      "D_loss = 0.9869145750999451\n"
     ]
    },
    {
     "name": "stderr",
     "output_type": "stream",
     "text": [
      "  4%|▍         | 4/100 [00:00<00:17,  5.63it/s]"
     ]
    },
    {
     "name": "stdout",
     "output_type": "stream",
     "text": [
      "G_loss = 0.5388057827949524\n",
      "D_loss = 1.0385887622833252\n",
      "G_loss = 0.5473933219909668\n"
     ]
    },
    {
     "name": "stderr",
     "output_type": "stream",
     "text": [
      "  5%|▌         | 5/100 [00:01<00:20,  4.56it/s]"
     ]
    },
    {
     "name": "stdout",
     "output_type": "stream",
     "text": [
      "D_loss = 1.0345821380615234\n",
      "G_loss = 0.5793082118034363\n",
      "D_loss = 1.0355130434036255\n"
     ]
    },
    {
     "name": "stderr",
     "output_type": "stream",
     "text": [
      "  6%|▌         | 6/100 [00:01<00:19,  4.73it/s]"
     ]
    },
    {
     "name": "stdout",
     "output_type": "stream",
     "text": [
      "G_loss = 0.6282168030738831\n",
      "D_loss = 1.0389379262924194\n",
      "G_loss = 0.6720324754714966\n",
      "D_loss = 1.0565119981765747\n",
      "G_loss = 0.690537691116333\n"
     ]
    },
    {
     "name": "stderr",
     "output_type": "stream",
     "text": [
      "  7%|▋         | 7/100 [00:01<00:18,  5.15it/s]"
     ]
    },
    {
     "name": "stdout",
     "output_type": "stream",
     "text": [
      "D_loss = 1.1193935871124268\n",
      "G_loss = 0.6770963072776794\n",
      "D_loss = 1.2311639785766602\n",
      "G_loss = 0.6383709907531738\n",
      "D_loss = 1.3305495977401733\n",
      "G_loss = 0.6247715353965759\n"
     ]
    },
    {
     "name": "stderr",
     "output_type": "stream",
     "text": [
      "  9%|▉         | 9/100 [00:01<00:16,  5.68it/s]"
     ]
    },
    {
     "name": "stdout",
     "output_type": "stream",
     "text": [
      "D_loss = 1.3792767524719238\n",
      "G_loss = 0.6045879125595093\n",
      "D_loss = 1.3735933303833008\n",
      "G_loss = 0.6081726551055908\n",
      "D_loss = 1.326056957244873\n",
      "G_loss = 0.6868547201156616\n"
     ]
    },
    {
     "name": "stderr",
     "output_type": "stream",
     "text": [
      " 10%|█         | 10/100 [00:01<00:16,  5.47it/s]"
     ]
    },
    {
     "name": "stdout",
     "output_type": "stream",
     "text": [
      "D_loss = 1.2697131633758545\n",
      "G_loss = 0.6742497086524963\n",
      "D_loss = 1.227452039718628\n",
      "G_loss = 0.7615329027175903\n",
      "D_loss = 1.1955828666687012\n"
     ]
    },
    {
     "name": "stderr",
     "output_type": "stream",
     "text": [
      " 12%|█▏        | 12/100 [00:02<00:14,  5.98it/s]"
     ]
    },
    {
     "name": "stdout",
     "output_type": "stream",
     "text": [
      "G_loss = 0.7828682065010071\n",
      "D_loss = 1.2134851217269897\n",
      "G_loss = 0.8109706044197083\n",
      "D_loss = 1.2296640872955322\n",
      "G_loss = 0.840634286403656\n",
      "D_loss = 1.2559771537780762\n"
     ]
    },
    {
     "name": "stderr",
     "output_type": "stream",
     "text": [
      " 13%|█▎        | 13/100 [00:02<00:14,  6.07it/s]"
     ]
    },
    {
     "name": "stdout",
     "output_type": "stream",
     "text": [
      "G_loss = 0.8067870140075684\n",
      "D_loss = 1.2960175275802612\n",
      "G_loss = 0.8389074206352234\n",
      "D_loss = 1.2472076416015625\n",
      "G_loss = 0.8370218276977539\n",
      "D_loss = 1.2790942192077637\n"
     ]
    },
    {
     "name": "stderr",
     "output_type": "stream",
     "text": [
      " 15%|█▌        | 15/100 [00:02<00:13,  6.19it/s]"
     ]
    },
    {
     "name": "stdout",
     "output_type": "stream",
     "text": [
      "G_loss = 0.860990047454834\n",
      "D_loss = 1.1935162544250488\n",
      "G_loss = 0.9225044250488281\n",
      "D_loss = 1.141592264175415\n",
      "G_loss = 0.9990289211273193\n",
      "D_loss = 1.1041038036346436\n"
     ]
    },
    {
     "name": "stderr",
     "output_type": "stream",
     "text": [
      " 16%|█▌        | 16/100 [00:02<00:17,  4.91it/s]"
     ]
    },
    {
     "name": "stdout",
     "output_type": "stream",
     "text": [
      "G_loss = 1.0068905353546143\n",
      "D_loss = 1.1338744163513184\n",
      "G_loss = 1.1061867475509644\n",
      "D_loss = 1.155266284942627\n",
      "G_loss = 0.9334340691566467\n"
     ]
    },
    {
     "name": "stderr",
     "output_type": "stream",
     "text": [
      " 17%|█▋        | 17/100 [00:03<00:16,  5.03it/s]"
     ]
    },
    {
     "name": "stdout",
     "output_type": "stream",
     "text": [
      "D_loss = 1.258880853652954\n",
      "G_loss = 1.0890345573425293\n",
      "D_loss = 1.413635492324829\n",
      "G_loss = 0.6623532772064209\n"
     ]
    },
    {
     "name": "stderr",
     "output_type": "stream",
     "text": [
      " 18%|█▊        | 18/100 [00:03<00:16,  4.90it/s]"
     ]
    },
    {
     "name": "stdout",
     "output_type": "stream",
     "text": [
      "D_loss = 1.4933596849441528\n",
      "G_loss = 0.7179064154624939\n",
      "D_loss = 1.4168061017990112\n",
      "G_loss = 0.7024358510971069\n",
      "D_loss = 1.3523600101470947\n"
     ]
    },
    {
     "name": "stderr",
     "output_type": "stream",
     "text": [
      " 19%|█▉        | 19/100 [00:03<00:16,  5.06it/s]"
     ]
    },
    {
     "name": "stdout",
     "output_type": "stream",
     "text": [
      "G_loss = 0.7036516666412354\n",
      "D_loss = 1.2781624794006348\n",
      "G_loss = 0.775041937828064\n",
      "D_loss = 1.138458251953125\n",
      "G_loss = 0.8369722366333008\n"
     ]
    },
    {
     "name": "stderr",
     "output_type": "stream",
     "text": [
      " 21%|██        | 21/100 [00:03<00:14,  5.31it/s]"
     ]
    },
    {
     "name": "stdout",
     "output_type": "stream",
     "text": [
      "D_loss = 1.0559018850326538\n",
      "G_loss = 0.9302202463150024\n",
      "D_loss = 0.9422162175178528\n",
      "G_loss = 1.0169329643249512\n",
      "D_loss = 0.8794840574264526\n",
      "G_loss = 1.060456395149231\n"
     ]
    },
    {
     "name": "stderr",
     "output_type": "stream",
     "text": [
      " 22%|██▏       | 22/100 [00:04<00:14,  5.48it/s]"
     ]
    },
    {
     "name": "stdout",
     "output_type": "stream",
     "text": [
      "D_loss = 0.8362119793891907\n",
      "G_loss = 1.1484283208847046\n",
      "D_loss = 0.8376563787460327\n",
      "G_loss = 1.0857715606689453\n",
      "D_loss = 0.9012815952301025\n",
      "G_loss = 1.0874176025390625\n"
     ]
    },
    {
     "name": "stderr",
     "output_type": "stream",
     "text": [
      " 24%|██▍       | 24/100 [00:04<00:13,  5.72it/s]"
     ]
    },
    {
     "name": "stdout",
     "output_type": "stream",
     "text": [
      "D_loss = 0.9695422053337097\n",
      "G_loss = 0.9833173155784607\n",
      "D_loss = 1.0391409397125244\n",
      "G_loss = 0.8672066926956177\n",
      "D_loss = 1.1343300342559814\n"
     ]
    },
    {
     "name": "stderr",
     "output_type": "stream",
     "text": [
      " 25%|██▌       | 25/100 [00:04<00:13,  5.70it/s]"
     ]
    },
    {
     "name": "stdout",
     "output_type": "stream",
     "text": [
      "G_loss = 0.7825477123260498\n",
      "D_loss = 1.1402376890182495\n",
      "G_loss = 0.7334361672401428\n",
      "D_loss = 1.1157530546188354\n",
      "G_loss = 0.7573460936546326\n"
     ]
    },
    {
     "name": "stderr",
     "output_type": "stream",
     "text": [
      " 26%|██▌       | 26/100 [00:04<00:13,  5.67it/s]"
     ]
    },
    {
     "name": "stdout",
     "output_type": "stream",
     "text": [
      "D_loss = 1.0563026666641235\n",
      "G_loss = 0.7842193245887756\n",
      "D_loss = 1.0290710926055908\n",
      "G_loss = 0.771119236946106\n",
      "D_loss = 1.0110315084457397\n"
     ]
    },
    {
     "name": "stderr",
     "output_type": "stream",
     "text": [
      " 27%|██▋       | 27/100 [00:04<00:13,  5.29it/s]"
     ]
    },
    {
     "name": "stdout",
     "output_type": "stream",
     "text": [
      "G_loss = 0.7694202065467834\n",
      "D_loss = 0.9723407030105591\n",
      "G_loss = 0.8019111156463623\n",
      "D_loss = 0.9152686595916748\n"
     ]
    },
    {
     "name": "stderr",
     "output_type": "stream",
     "text": [
      " 29%|██▉       | 29/100 [00:05<00:13,  5.45it/s]"
     ]
    },
    {
     "name": "stdout",
     "output_type": "stream",
     "text": [
      "G_loss = 0.8504087328910828\n",
      "D_loss = 0.864005446434021\n",
      "G_loss = 0.8877555131912231\n",
      "D_loss = 0.8624470233917236\n",
      "G_loss = 0.898136556148529\n",
      "D_loss = 0.8526859879493713\n"
     ]
    },
    {
     "name": "stderr",
     "output_type": "stream",
     "text": [
      " 30%|███       | 30/100 [00:05<00:12,  5.53it/s]"
     ]
    },
    {
     "name": "stdout",
     "output_type": "stream",
     "text": [
      "G_loss = 0.8983195424079895\n",
      "D_loss = 0.8400176167488098\n",
      "G_loss = 0.9030637741088867\n",
      "D_loss = 0.8368518948554993\n",
      "G_loss = 0.8925784230232239\n"
     ]
    },
    {
     "name": "stderr",
     "output_type": "stream",
     "text": [
      " 31%|███       | 31/100 [00:05<00:12,  5.46it/s]"
     ]
    },
    {
     "name": "stdout",
     "output_type": "stream",
     "text": [
      "D_loss = 0.8160399198532104\n",
      "G_loss = 0.927574872970581\n",
      "D_loss = 0.8219283819198608\n",
      "G_loss = 0.9267045855522156\n",
      "D_loss = 0.8651271462440491\n",
      "G_loss = 0.8654854893684387\n"
     ]
    },
    {
     "name": "stderr",
     "output_type": "stream",
     "text": [
      " 33%|███▎      | 33/100 [00:06<00:11,  5.65it/s]"
     ]
    },
    {
     "name": "stdout",
     "output_type": "stream",
     "text": [
      "D_loss = 0.9534838199615479\n",
      "G_loss = 0.8746005892753601\n",
      "D_loss = 1.136296272277832\n",
      "G_loss = 0.586837887763977\n",
      "D_loss = 1.3095505237579346\n"
     ]
    },
    {
     "name": "stderr",
     "output_type": "stream",
     "text": [
      " 34%|███▍      | 34/100 [00:06<00:11,  5.71it/s]"
     ]
    },
    {
     "name": "stdout",
     "output_type": "stream",
     "text": [
      "G_loss = 0.6630239486694336\n",
      "D_loss = 1.365083932876587\n",
      "G_loss = 0.5427649021148682\n",
      "D_loss = 1.233504295349121\n",
      "G_loss = 0.9737839102745056\n"
     ]
    },
    {
     "name": "stderr",
     "output_type": "stream",
     "text": [
      " 35%|███▌      | 35/100 [00:06<00:11,  5.76it/s]"
     ]
    },
    {
     "name": "stdout",
     "output_type": "stream",
     "text": [
      "D_loss = 1.1021736860275269\n",
      "G_loss = 0.8304274678230286\n"
     ]
    },
    {
     "name": "stderr",
     "output_type": "stream",
     "text": [
      " 36%|███▌      | 36/100 [00:06<00:14,  4.50it/s]"
     ]
    },
    {
     "name": "stdout",
     "output_type": "stream",
     "text": [
      "D_loss = 0.9619460105895996\n",
      "G_loss = 1.2691779136657715\n",
      "D_loss = 1.1467864513397217\n",
      "G_loss = 0.3496589660644531\n"
     ]
    },
    {
     "name": "stderr",
     "output_type": "stream",
     "text": [
      " 37%|███▋      | 37/100 [00:06<00:13,  4.79it/s]"
     ]
    },
    {
     "name": "stdout",
     "output_type": "stream",
     "text": [
      "D_loss = 1.683160424232483\n",
      "G_loss = 0.7852870225906372\n",
      "D_loss = 1.4441146850585938\n",
      "G_loss = 0.6567139625549316\n",
      "D_loss = 1.6702685356140137\n"
     ]
    },
    {
     "name": "stderr",
     "output_type": "stream",
     "text": [
      " 38%|███▊      | 38/100 [00:07<00:12,  4.96it/s]"
     ]
    },
    {
     "name": "stdout",
     "output_type": "stream",
     "text": [
      "G_loss = 0.33422189950942993\n",
      "D_loss = 1.7770460844039917\n",
      "G_loss = 0.4142712950706482\n",
      "D_loss = 1.5996644496917725\n",
      "G_loss = 0.6109480261802673\n"
     ]
    },
    {
     "name": "stderr",
     "output_type": "stream",
     "text": [
      " 39%|███▉      | 39/100 [00:07<00:11,  5.18it/s]"
     ]
    },
    {
     "name": "stdout",
     "output_type": "stream",
     "text": [
      "D_loss = 1.4474372863769531\n",
      "G_loss = 0.6132951974868774\n",
      "D_loss = 1.2952518463134766\n",
      "G_loss = 0.7117854356765747\n",
      "D_loss = 1.207639217376709\n"
     ]
    },
    {
     "name": "stderr",
     "output_type": "stream",
     "text": [
      " 40%|████      | 40/100 [00:07<00:11,  5.14it/s]"
     ]
    },
    {
     "name": "stdout",
     "output_type": "stream",
     "text": [
      "G_loss = 0.8152944445610046\n",
      "D_loss = 1.104363203048706\n",
      "G_loss = 0.9685925245285034\n",
      "D_loss = 1.0671477317810059\n"
     ]
    },
    {
     "name": "stderr",
     "output_type": "stream",
     "text": [
      " 41%|████      | 41/100 [00:07<00:11,  5.23it/s]"
     ]
    },
    {
     "name": "stdout",
     "output_type": "stream",
     "text": [
      "G_loss = 0.9183611273765564\n",
      "D_loss = 1.149369716644287\n",
      "G_loss = 1.1468003988265991\n",
      "D_loss = 1.3437083959579468\n",
      "G_loss = 0.4857035279273987\n"
     ]
    },
    {
     "name": "stderr",
     "output_type": "stream",
     "text": [
      " 43%|████▎     | 43/100 [00:08<00:10,  5.41it/s]"
     ]
    },
    {
     "name": "stdout",
     "output_type": "stream",
     "text": [
      "D_loss = 1.6655718088150024\n",
      "G_loss = 1.0102108716964722\n",
      "D_loss = 1.9139866828918457\n",
      "G_loss = 0.4294627904891968\n",
      "D_loss = 1.7947986125946045\n",
      "G_loss = 0.5201402902603149\n"
     ]
    },
    {
     "name": "stderr",
     "output_type": "stream",
     "text": [
      " 44%|████▍     | 44/100 [00:08<00:10,  5.44it/s]"
     ]
    },
    {
     "name": "stdout",
     "output_type": "stream",
     "text": [
      "D_loss = 1.6252191066741943\n",
      "G_loss = 0.6472313404083252\n",
      "D_loss = 1.4602642059326172\n",
      "G_loss = 0.675505518913269\n",
      "D_loss = 1.3390977382659912\n"
     ]
    },
    {
     "name": "stderr",
     "output_type": "stream",
     "text": [
      " 45%|████▌     | 45/100 [00:08<00:10,  5.48it/s]"
     ]
    },
    {
     "name": "stdout",
     "output_type": "stream",
     "text": [
      "G_loss = 0.7166445851325989\n",
      "D_loss = 1.2128417491912842\n",
      "G_loss = 0.8551598787307739\n",
      "D_loss = 1.0957002639770508\n",
      "G_loss = 0.9603385925292969\n"
     ]
    },
    {
     "name": "stderr",
     "output_type": "stream",
     "text": [
      " 47%|████▋     | 47/100 [00:08<00:09,  5.54it/s]"
     ]
    },
    {
     "name": "stdout",
     "output_type": "stream",
     "text": [
      "D_loss = 1.0103391408920288\n",
      "G_loss = 1.024795413017273\n",
      "D_loss = 0.9802320003509521\n",
      "G_loss = 1.172936201095581\n",
      "D_loss = 0.979576587677002\n"
     ]
    },
    {
     "name": "stderr",
     "output_type": "stream",
     "text": [
      " 48%|████▊     | 48/100 [00:08<00:10,  5.08it/s]"
     ]
    },
    {
     "name": "stdout",
     "output_type": "stream",
     "text": [
      "G_loss = 1.0237581729888916\n",
      "D_loss = 1.0672147274017334\n",
      "G_loss = 1.3301284313201904\n",
      "D_loss = 1.212397575378418\n",
      "G_loss = 0.6332960724830627\n"
     ]
    },
    {
     "name": "stderr",
     "output_type": "stream",
     "text": [
      " 49%|████▉     | 49/100 [00:09<00:13,  3.81it/s]"
     ]
    },
    {
     "name": "stdout",
     "output_type": "stream",
     "text": [
      "D_loss = 1.483358383178711\n",
      "G_loss = 1.2665085792541504\n",
      "D_loss = 1.5532441139221191\n",
      "G_loss = 0.5994659066200256\n",
      "D_loss = 1.5589780807495117\n"
     ]
    },
    {
     "name": "stderr",
     "output_type": "stream",
     "text": [
      " 50%|█████     | 50/100 [00:09<00:12,  4.00it/s]"
     ]
    },
    {
     "name": "stdout",
     "output_type": "stream",
     "text": [
      "G_loss = 0.8257408738136292\n",
      "D_loss = 1.4914536476135254\n",
      "G_loss = 0.8070481419563293\n",
      "D_loss = 1.4240930080413818\n",
      "G_loss = 0.7371706962585449\n"
     ]
    },
    {
     "name": "stderr",
     "output_type": "stream",
     "text": [
      " 52%|█████▏    | 52/100 [00:09<00:10,  4.75it/s]"
     ]
    },
    {
     "name": "stdout",
     "output_type": "stream",
     "text": [
      "D_loss = 1.3898226022720337\n",
      "G_loss = 0.8325433731079102\n",
      "D_loss = 1.3896832466125488\n",
      "G_loss = 0.7572935819625854\n",
      "D_loss = 1.2252447605133057\n"
     ]
    },
    {
     "name": "stderr",
     "output_type": "stream",
     "text": [
      " 53%|█████▎    | 53/100 [00:10<00:09,  5.01it/s]"
     ]
    },
    {
     "name": "stdout",
     "output_type": "stream",
     "text": [
      "G_loss = 0.9803931713104248\n",
      "D_loss = 1.1127119064331055\n",
      "G_loss = 1.1263902187347412\n",
      "D_loss = 0.9288923740386963\n",
      "G_loss = 1.5113050937652588\n"
     ]
    },
    {
     "name": "stderr",
     "output_type": "stream",
     "text": [
      " 54%|█████▍    | 54/100 [00:10<00:08,  5.17it/s]"
     ]
    },
    {
     "name": "stdout",
     "output_type": "stream",
     "text": [
      "D_loss = 0.8398691415786743\n",
      "G_loss = 1.3166683912277222\n",
      "D_loss = 0.8906742334365845\n",
      "G_loss = 1.7456367015838623\n",
      "D_loss = 1.1269996166229248\n",
      "G_loss = 0.47052955627441406\n"
     ]
    },
    {
     "name": "stderr",
     "output_type": "stream",
     "text": [
      " 56%|█████▌    | 56/100 [00:10<00:08,  5.47it/s]"
     ]
    },
    {
     "name": "stdout",
     "output_type": "stream",
     "text": [
      "D_loss = 1.5733215808868408\n",
      "G_loss = 1.164320945739746\n",
      "D_loss = 1.4825973510742188\n",
      "G_loss = 0.5513114333152771\n",
      "D_loss = 1.472388505935669\n"
     ]
    },
    {
     "name": "stderr",
     "output_type": "stream",
     "text": [
      " 57%|█████▋    | 57/100 [00:10<00:07,  5.54it/s]"
     ]
    },
    {
     "name": "stdout",
     "output_type": "stream",
     "text": [
      "G_loss = 0.6114957928657532\n",
      "D_loss = 1.4445397853851318\n",
      "G_loss = 0.687793493270874\n",
      "D_loss = 1.3717056512832642\n",
      "G_loss = 0.6441302299499512\n"
     ]
    },
    {
     "name": "stderr",
     "output_type": "stream",
     "text": [
      " 58%|█████▊    | 58/100 [00:11<00:07,  5.43it/s]"
     ]
    },
    {
     "name": "stdout",
     "output_type": "stream",
     "text": [
      "D_loss = 1.2721343040466309\n",
      "G_loss = 0.7224845290184021\n",
      "D_loss = 1.1782734394073486\n",
      "G_loss = 0.8263849020004272\n",
      "D_loss = 1.064676284790039\n",
      "G_loss = 0.9002562761306763\n"
     ]
    },
    {
     "name": "stderr",
     "output_type": "stream",
     "text": [
      " 60%|██████    | 60/100 [00:11<00:07,  5.41it/s]"
     ]
    },
    {
     "name": "stdout",
     "output_type": "stream",
     "text": [
      "D_loss = 0.9649881720542908\n",
      "G_loss = 0.9860810041427612\n",
      "D_loss = 0.8571668863296509\n",
      "G_loss = 1.1771926879882812\n",
      "D_loss = 0.7849094867706299\n"
     ]
    },
    {
     "name": "stderr",
     "output_type": "stream",
     "text": [
      " 61%|██████    | 61/100 [00:11<00:07,  5.56it/s]"
     ]
    },
    {
     "name": "stdout",
     "output_type": "stream",
     "text": [
      "G_loss = 1.0671360492706299\n",
      "D_loss = 0.7877352833747864\n",
      "G_loss = 1.6515744924545288\n",
      "D_loss = 0.849506139755249\n",
      "G_loss = 0.8251347541809082\n"
     ]
    },
    {
     "name": "stderr",
     "output_type": "stream",
     "text": [
      " 62%|██████▏   | 62/100 [00:11<00:06,  5.63it/s]"
     ]
    },
    {
     "name": "stdout",
     "output_type": "stream",
     "text": [
      "D_loss = 1.0871292352676392\n",
      "G_loss = 1.5492253303527832\n",
      "D_loss = 0.8125120997428894\n",
      "G_loss = 1.3238006830215454\n",
      "D_loss = 0.8928027153015137\n"
     ]
    },
    {
     "name": "stderr",
     "output_type": "stream",
     "text": [
      " 63%|██████▎   | 63/100 [00:11<00:06,  5.52it/s]"
     ]
    },
    {
     "name": "stdout",
     "output_type": "stream",
     "text": [
      "G_loss = 1.2161873579025269\n",
      "D_loss = 1.0061733722686768\n",
      "G_loss = 1.4096182584762573\n",
      "D_loss = 1.296069860458374\n"
     ]
    },
    {
     "name": "stderr",
     "output_type": "stream",
     "text": [
      " 64%|██████▍   | 64/100 [00:12<00:07,  5.09it/s]"
     ]
    },
    {
     "name": "stdout",
     "output_type": "stream",
     "text": [
      "G_loss = 0.36543458700180054\n",
      "D_loss = 1.6448853015899658\n"
     ]
    },
    {
     "name": "stderr",
     "output_type": "stream",
     "text": [
      " 65%|██████▌   | 65/100 [00:12<00:08,  4.09it/s]"
     ]
    },
    {
     "name": "stdout",
     "output_type": "stream",
     "text": [
      "G_loss = 0.8239882588386536\n",
      "D_loss = 1.0904266834259033\n",
      "G_loss = 1.422414779663086\n",
      "D_loss = 1.486041784286499\n"
     ]
    },
    {
     "name": "stderr",
     "output_type": "stream",
     "text": [
      " 66%|██████▌   | 66/100 [00:12<00:07,  4.27it/s]"
     ]
    },
    {
     "name": "stdout",
     "output_type": "stream",
     "text": [
      "G_loss = 0.5655762553215027\n",
      "D_loss = 1.3323923349380493\n",
      "G_loss = 0.6210615038871765\n",
      "D_loss = 1.228658676147461\n",
      "G_loss = 0.9863536357879639\n"
     ]
    },
    {
     "name": "stderr",
     "output_type": "stream",
     "text": [
      " 67%|██████▋   | 67/100 [00:12<00:07,  4.52it/s]"
     ]
    },
    {
     "name": "stdout",
     "output_type": "stream",
     "text": [
      "D_loss = 1.1874279975891113\n",
      "G_loss = 0.8939526081085205\n",
      "D_loss = 1.113304853439331\n",
      "G_loss = 0.8260945081710815\n",
      "D_loss = 1.0354759693145752\n"
     ]
    },
    {
     "name": "stderr",
     "output_type": "stream",
     "text": [
      " 68%|██████▊   | 68/100 [00:13<00:06,  4.69it/s]"
     ]
    },
    {
     "name": "stdout",
     "output_type": "stream",
     "text": [
      "G_loss = 1.0562478303909302\n",
      "D_loss = 0.9324212074279785\n",
      "G_loss = 1.088188886642456\n",
      "D_loss = 0.8108848333358765\n"
     ]
    },
    {
     "name": "stderr",
     "output_type": "stream",
     "text": [
      " 69%|██████▉   | 69/100 [00:13<00:06,  4.61it/s]"
     ]
    },
    {
     "name": "stdout",
     "output_type": "stream",
     "text": [
      "G_loss = 1.2019058465957642\n",
      "D_loss = 0.7173557281494141\n",
      "G_loss = 1.3901551961898804\n",
      "D_loss = 0.6146273612976074\n",
      "G_loss = 1.4547162055969238\n"
     ]
    },
    {
     "name": "stderr",
     "output_type": "stream",
     "text": [
      " 71%|███████   | 71/100 [00:13<00:05,  4.94it/s]"
     ]
    },
    {
     "name": "stdout",
     "output_type": "stream",
     "text": [
      "D_loss = 0.562863290309906\n",
      "G_loss = 1.4782134294509888\n",
      "D_loss = 0.5476909875869751\n",
      "G_loss = 1.401212215423584\n",
      "D_loss = 0.573639452457428\n"
     ]
    },
    {
     "name": "stderr",
     "output_type": "stream",
     "text": [
      " 72%|███████▏  | 72/100 [00:13<00:05,  5.06it/s]"
     ]
    },
    {
     "name": "stdout",
     "output_type": "stream",
     "text": [
      "G_loss = 1.3594352006912231\n",
      "D_loss = 0.6232836246490479\n",
      "G_loss = 1.2114551067352295\n",
      "D_loss = 0.6921985149383545\n"
     ]
    },
    {
     "name": "stderr",
     "output_type": "stream",
     "text": [
      " 73%|███████▎  | 73/100 [00:14<00:05,  4.79it/s]"
     ]
    },
    {
     "name": "stdout",
     "output_type": "stream",
     "text": [
      "G_loss = 1.0761022567749023\n",
      "D_loss = 0.7870620489120483\n",
      "G_loss = 1.0252339839935303\n",
      "D_loss = 0.8084903955459595\n"
     ]
    },
    {
     "name": "stderr",
     "output_type": "stream",
     "text": [
      " 74%|███████▍  | 74/100 [00:14<00:05,  4.80it/s]"
     ]
    },
    {
     "name": "stdout",
     "output_type": "stream",
     "text": [
      "G_loss = 0.9364705085754395\n",
      "D_loss = 0.8199089765548706\n",
      "G_loss = 0.8668369054794312\n",
      "D_loss = 0.8609771132469177\n",
      "G_loss = 0.9111075401306152\n"
     ]
    },
    {
     "name": "stderr",
     "output_type": "stream",
     "text": [
      " 75%|███████▌  | 75/100 [00:14<00:05,  4.74it/s]"
     ]
    },
    {
     "name": "stdout",
     "output_type": "stream",
     "text": [
      "D_loss = 0.7723453044891357\n",
      "G_loss = 1.0187146663665771\n",
      "D_loss = 0.6679320335388184\n",
      "G_loss = 1.1660442352294922\n"
     ]
    },
    {
     "name": "stderr",
     "output_type": "stream",
     "text": [
      " 76%|███████▌  | 76/100 [00:14<00:05,  4.18it/s]"
     ]
    },
    {
     "name": "stdout",
     "output_type": "stream",
     "text": [
      "D_loss = 0.5481107831001282\n",
      "G_loss = 1.3234683275222778\n",
      "D_loss = 0.48849356174468994\n",
      "G_loss = 1.4327960014343262\n"
     ]
    },
    {
     "name": "stderr",
     "output_type": "stream",
     "text": [
      " 77%|███████▋  | 77/100 [00:15<00:05,  4.19it/s]"
     ]
    },
    {
     "name": "stdout",
     "output_type": "stream",
     "text": [
      "D_loss = 0.489623486995697\n",
      "G_loss = 1.4956845045089722\n",
      "D_loss = 0.516914427280426\n",
      "G_loss = 1.4641841650009155\n"
     ]
    },
    {
     "name": "stderr",
     "output_type": "stream",
     "text": [
      " 78%|███████▊  | 78/100 [00:15<00:05,  4.25it/s]"
     ]
    },
    {
     "name": "stdout",
     "output_type": "stream",
     "text": [
      "D_loss = 0.5850893259048462\n",
      "G_loss = 1.4182734489440918\n",
      "D_loss = 0.6754151582717896\n",
      "G_loss = 1.0761408805847168\n",
      "D_loss = 0.8730615973472595\n"
     ]
    },
    {
     "name": "stderr",
     "output_type": "stream",
     "text": [
      " 79%|███████▉  | 79/100 [00:15<00:04,  4.61it/s]"
     ]
    },
    {
     "name": "stdout",
     "output_type": "stream",
     "text": [
      "G_loss = 1.335541009902954\n",
      "D_loss = 0.8583311438560486\n",
      "G_loss = 0.9112879633903503\n",
      "D_loss = 0.9400544762611389\n",
      "G_loss = 1.656597375869751\n"
     ]
    },
    {
     "name": "stderr",
     "output_type": "stream",
     "text": [
      " 81%|████████  | 81/100 [00:16<00:04,  3.96it/s]"
     ]
    },
    {
     "name": "stdout",
     "output_type": "stream",
     "text": [
      "D_loss = 0.5450006723403931\n",
      "G_loss = 1.8690906763076782\n",
      "D_loss = 0.5810471773147583\n",
      "G_loss = 1.0433634519577026\n"
     ]
    },
    {
     "name": "stderr",
     "output_type": "stream",
     "text": [
      " 82%|████████▏ | 82/100 [00:16<00:04,  4.27it/s]"
     ]
    },
    {
     "name": "stdout",
     "output_type": "stream",
     "text": [
      "D_loss = 1.2252593040466309\n",
      "G_loss = 2.0496091842651367\n",
      "D_loss = 1.5246937274932861\n",
      "G_loss = 0.2108483612537384\n",
      "D_loss = 2.1150925159454346\n",
      "G_loss = 0.3184468448162079\n",
      "D_loss = 1.7404751777648926\n",
      "G_loss = 1.0951405763626099\n"
     ]
    },
    {
     "name": "stderr",
     "output_type": "stream",
     "text": [
      " 84%|████████▍ | 84/100 [00:16<00:03,  4.37it/s]"
     ]
    },
    {
     "name": "stdout",
     "output_type": "stream",
     "text": [
      "D_loss = 0.6821277141571045\n",
      "G_loss = 1.859275460243225\n",
      "D_loss = 1.2851073741912842\n",
      "G_loss = 0.9263155460357666\n"
     ]
    },
    {
     "name": "stderr",
     "output_type": "stream",
     "text": [
      " 85%|████████▌ | 85/100 [00:16<00:03,  4.56it/s]"
     ]
    },
    {
     "name": "stdout",
     "output_type": "stream",
     "text": [
      "D_loss = 0.9412978887557983\n",
      "G_loss = 0.7712633609771729\n",
      "D_loss = 1.189815878868103\n",
      "G_loss = 1.0448819398880005\n",
      "D_loss = 1.1320184469223022\n"
     ]
    },
    {
     "name": "stderr",
     "output_type": "stream",
     "text": [
      " 86%|████████▌ | 86/100 [00:17<00:03,  4.66it/s]"
     ]
    },
    {
     "name": "stdout",
     "output_type": "stream",
     "text": [
      "G_loss = 0.927489697933197\n",
      "D_loss = 1.1983143091201782\n",
      "G_loss = 0.8621251583099365\n",
      "D_loss = 1.1375665664672852\n",
      "G_loss = 1.1921645402908325\n"
     ]
    },
    {
     "name": "stderr",
     "output_type": "stream",
     "text": [
      " 87%|████████▋ | 87/100 [00:17<00:02,  4.70it/s]"
     ]
    },
    {
     "name": "stdout",
     "output_type": "stream",
     "text": [
      "D_loss = 1.0925240516662598\n",
      "G_loss = 0.8956333994865417\n",
      "D_loss = 1.0650006532669067\n",
      "G_loss = 1.5829250812530518\n"
     ]
    },
    {
     "name": "stderr",
     "output_type": "stream",
     "text": [
      " 88%|████████▊ | 88/100 [00:17<00:02,  4.80it/s]"
     ]
    },
    {
     "name": "stdout",
     "output_type": "stream",
     "text": [
      "D_loss = 0.9747092127799988\n",
      "G_loss = 0.9231601357460022\n",
      "D_loss = 1.0748002529144287\n",
      "G_loss = 1.7816100120544434\n",
      "D_loss = 0.8629111051559448\n"
     ]
    },
    {
     "name": "stderr",
     "output_type": "stream",
     "text": [
      " 89%|████████▉ | 89/100 [00:17<00:02,  4.89it/s]"
     ]
    },
    {
     "name": "stdout",
     "output_type": "stream",
     "text": [
      "G_loss = 1.1851778030395508\n",
      "D_loss = 0.9439859390258789\n",
      "G_loss = 1.4992916584014893\n",
      "D_loss = 0.9229303002357483\n",
      "G_loss = 1.2251091003417969\n"
     ]
    },
    {
     "name": "stderr",
     "output_type": "stream",
     "text": [
      " 91%|█████████ | 91/100 [00:18<00:01,  4.72it/s]"
     ]
    },
    {
     "name": "stdout",
     "output_type": "stream",
     "text": [
      "D_loss = 0.9374865293502808\n",
      "G_loss = 1.7406244277954102\n",
      "D_loss = 0.8946929574012756\n",
      "G_loss = 0.9347884058952332\n",
      "D_loss = 0.9971021413803101\n",
      "G_loss = 2.139899253845215\n",
      "D_loss = 0.674502968788147\n",
      "G_loss = 1.4880125522613525\n"
     ]
    },
    {
     "name": "stderr",
     "output_type": "stream",
     "text": [
      " 92%|█████████▏| 92/100 [00:18<00:01,  4.61it/s]"
     ]
    },
    {
     "name": "stdout",
     "output_type": "stream",
     "text": [
      "D_loss = 0.5445024967193604\n"
     ]
    },
    {
     "name": "stderr",
     "output_type": "stream",
     "text": [
      " 93%|█████████▎| 93/100 [00:18<00:01,  3.66it/s]"
     ]
    },
    {
     "name": "stdout",
     "output_type": "stream",
     "text": [
      "G_loss = 1.7347428798675537\n",
      "D_loss = 0.450918972492218\n",
      "G_loss = 2.088144540786743\n",
      "D_loss = 0.504075825214386\n",
      "G_loss = 1.465745210647583\n"
     ]
    },
    {
     "name": "stderr",
     "output_type": "stream",
     "text": [
      " 94%|█████████▍| 94/100 [00:19<00:01,  3.90it/s]"
     ]
    },
    {
     "name": "stdout",
     "output_type": "stream",
     "text": [
      "D_loss = 0.6961668133735657\n",
      "G_loss = 1.9869122505187988\n",
      "D_loss = 0.6414287090301514\n",
      "G_loss = 1.1442360877990723\n",
      "D_loss = 0.859281599521637\n"
     ]
    },
    {
     "name": "stderr",
     "output_type": "stream",
     "text": [
      " 95%|█████████▌| 95/100 [00:19<00:01,  4.14it/s]"
     ]
    },
    {
     "name": "stdout",
     "output_type": "stream",
     "text": [
      "G_loss = 1.60879385471344\n",
      "D_loss = 0.6448140740394592\n",
      "G_loss = 1.4289308786392212\n",
      "D_loss = 0.7097664475440979\n",
      "G_loss = 1.322529673576355\n"
     ]
    },
    {
     "name": "stderr",
     "output_type": "stream",
     "text": [
      " 97%|█████████▋| 97/100 [00:19<00:00,  4.46it/s]"
     ]
    },
    {
     "name": "stdout",
     "output_type": "stream",
     "text": [
      "D_loss = 0.6793540716171265\n",
      "G_loss = 1.6045161485671997\n",
      "D_loss = 0.6344584226608276\n",
      "G_loss = 1.1296701431274414\n"
     ]
    },
    {
     "name": "stderr",
     "output_type": "stream",
     "text": [
      " 98%|█████████▊| 98/100 [00:19<00:00,  4.54it/s]"
     ]
    },
    {
     "name": "stdout",
     "output_type": "stream",
     "text": [
      "D_loss = 0.8600409030914307\n",
      "G_loss = 1.8761271238327026\n",
      "D_loss = 0.47904184460639954\n",
      "G_loss = 1.7417892217636108\n"
     ]
    },
    {
     "name": "stderr",
     "output_type": "stream",
     "text": [
      " 99%|█████████▉| 99/100 [00:20<00:00,  4.67it/s]"
     ]
    },
    {
     "name": "stdout",
     "output_type": "stream",
     "text": [
      "D_loss = 0.4275333285331726\n",
      "G_loss = 1.763377070426941\n",
      "D_loss = 0.4115969240665436\n",
      "G_loss = 1.7915619611740112\n",
      "D_loss = 0.4708200991153717\n"
     ]
    },
    {
     "name": "stderr",
     "output_type": "stream",
     "text": [
      "100%|██████████| 100/100 [00:20<00:00,  4.92it/s]"
     ]
    },
    {
     "name": "stdout",
     "output_type": "stream",
     "text": [
      "G_loss = 1.5269256830215454\n",
      "D_loss = 0.5346814393997192\n",
      "G_loss = 1.5561771392822266\n",
      "Training done\n"
     ]
    },
    {
     "name": "stderr",
     "output_type": "stream",
     "text": [
      "\n"
     ]
    }
   ],
   "source": [
    "# ToDo: Substitute printing by plotting\n",
    "G, D = train.main(epochs = 100, lr = 0.0002, batch_size = 64, mnist_size = 100, f_divergence = 0)"
   ]
  },
  {
   "cell_type": "code",
   "execution_count": 14,
   "metadata": {},
   "outputs": [],
   "source": [
    "def generate(G, batch_size=2048, n_samples=101):\n",
    "    # Check if GPU is available\n",
    "    if torch.cuda.is_available():\n",
    "        device = torch.device(\"cuda\")\n",
    "        print('GPU is available')\n",
    "    else:\n",
    "        device = torch.device(\"cpu\")\n",
    "        print('GPU is not available')\n",
    "\n",
    "\n",
    "    print('Model Loading...')\n",
    "    # Model Pipeline\n",
    "    mnist_dim = 784\n",
    "\n",
    "    model = Generator(g_output_dim = mnist_dim).to(device)\n",
    "    model = load_model(model, 'checkpoints')\n",
    "    model = torch.nn.DataParallel(model).to(device)\n",
    "    model.eval()\n",
    "\n",
    "    print('Model loaded.')\n",
    "\n",
    "\n",
    "\n",
    "    print('Start Generating')\n",
    "    os.makedirs('samples', exist_ok=True)\n",
    "\n",
    "    i = 0\n",
    "    with torch.no_grad():\n",
    "        while i<n_samples:\n",
    "            z = torch.randn(batch_size, 100).to(device)\n",
    "            x = model(z)\n",
    "            x = x.reshape(batch_size, 28, 28)\n",
    "            for k in range(x.shape[0]):\n",
    "                if i<n_samples:\n",
    "                    torchvision.utils.save_image(x[k:k+1], os.path.join('samples', f'{i}.png'))         \n",
    "                    i += 1"
   ]
  },
  {
   "cell_type": "code",
   "execution_count": 15,
   "metadata": {},
   "outputs": [
    {
     "name": "stdout",
     "output_type": "stream",
     "text": [
      "GPU is not available\n",
      "Model Loading...\n",
      "Model loaded.\n",
      "Start Generating\n"
     ]
    }
   ],
   "source": [
    "generate(G, 2048, 101)"
   ]
  }
 ],
 "metadata": {
  "kernelspec": {
   "display_name": "Python 3",
   "language": "python",
   "name": "python3"
  },
  "language_info": {
   "codemirror_mode": {
    "name": "ipython",
    "version": 3
   },
   "file_extension": ".py",
   "mimetype": "text/x-python",
   "name": "python",
   "nbconvert_exporter": "python",
   "pygments_lexer": "ipython3",
   "version": "3.9.10"
  }
 },
 "nbformat": 4,
 "nbformat_minor": 2
}
